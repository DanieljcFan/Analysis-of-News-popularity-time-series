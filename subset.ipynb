{
 "cells": [
  {
   "cell_type": "markdown",
   "metadata": {},
   "source": [
    "Read in original data and make subset"
   ]
  },
  {
   "cell_type": "code",
   "execution_count": 1,
   "metadata": {},
   "outputs": [
    {
     "name": "stdout",
     "output_type": "stream",
     "text": [
      "Populating the interactive namespace from numpy and matplotlib\n"
     ]
    }
   ],
   "source": [
    "%pylab inline"
   ]
  },
  {
   "cell_type": "code",
   "execution_count": 2,
   "metadata": {},
   "outputs": [
    {
     "name": "stdout",
     "output_type": "stream",
     "text": [
      "[364 307 234  95]\n",
      "93239\n"
     ]
    }
   ],
   "source": [
    "import pandas as pd\n",
    "data_news = pd.read_csv('News_Final.csv', delimiter=',')\n",
    "\n",
    "random.seed(2018)\n",
    "\n",
    "n = 1000\n",
    "\n",
    "topic = data_news.Topic.value_counts()\n",
    "weight = (topic/topic.sum()*n).values.round().astype(int)\n",
    "print(weight)\n",
    "print(topic.sum())\n"
   ]
  },
  {
   "cell_type": "code",
   "execution_count": 3,
   "metadata": {},
   "outputs": [],
   "source": [
    "data_facebook = pd.DataFrame()\n",
    "data_google = pd.DataFrame()\n",
    "data_linkedin = pd.DataFrame()\n",
    "\n",
    "file_facebook = ('Facebook_Economy.csv',\n",
    "                 'Facebook_Microsoft.csv',\n",
    "                 'Facebook_Obama.csv',\n",
    "                 'Facebook_Palestine.csv')\n",
    "file_google = ('GooglePlus_Economy.csv',\n",
    "               'GooglePlus_Microsoft.csv',\n",
    "               'GooglePlus_Obama.csv',\n",
    "               'GooglePlus_Palestine.csv')\n",
    "file_linkedin = ('LinkedIn_Economy.csv',\n",
    "                 'LinkedIn_Microsoft.csv',\n",
    "                 'LinkedIn_Obama.csv',\n",
    "                 'LinkedIn_Palestine.csv')\n",
    "\n",
    "for k in file_facebook:\n",
    "    data_temp = pd.read_csv(k, delimiter=',')\n",
    "    data_facebook = data_facebook.append(data_temp)\n",
    "\n",
    "for k in file_google:\n",
    "    data_temp = pd.read_csv(k, delimiter=',')\n",
    "    data_google = data_google.append(data_temp)\n",
    "\n",
    "for k in file_linkedin:\n",
    "    data_temp = pd.read_csv(k, delimiter=',')\n",
    "    data_linkedin = data_linkedin.append(data_temp)\n",
    "\n",
    "\n",
    "data_news = data_news.set_index('IDLink') \n",
    "data_facebook = data_facebook.set_index('IDLink') \n",
    "data_google = data_google.set_index('IDLink') \n",
    "data_linkedin = data_linkedin.set_index('IDLink') "
   ]
  },
  {
   "cell_type": "code",
   "execution_count": 4,
   "metadata": {},
   "outputs": [
    {
     "name": "stdout",
     "output_type": "stream",
     "text": [
      "93239\n",
      "83161\n",
      "88677\n",
      "88677\n",
      "83164\n"
     ]
    },
    {
     "data": {
      "text/plain": [
       "Float64Index([], dtype='float64', name='IDLink')"
      ]
     },
     "execution_count": 4,
     "metadata": {},
     "output_type": "execute_result"
    }
   ],
   "source": [
    "print(len(data_news.index))\n",
    "print(len(data_facebook.index))\n",
    "print(len(data_google.index))\n",
    "print(len(data_linkedin.index))\n",
    "\n",
    "\n",
    "print(len(data_facebook.index &data_news.index &  data_google.index & data_linkedin.index))\n",
    "\n",
    "(data_news.index & data_facebook.index & data_google.index & data_linkedin.index).difference(data_facebook.index)"
   ]
  },
  {
   "cell_type": "code",
   "execution_count": 5,
   "metadata": {},
   "outputs": [
    {
     "data": {
      "text/html": [
       "<div>\n",
       "<style scoped>\n",
       "    .dataframe tbody tr th:only-of-type {\n",
       "        vertical-align: middle;\n",
       "    }\n",
       "\n",
       "    .dataframe tbody tr th {\n",
       "        vertical-align: top;\n",
       "    }\n",
       "\n",
       "    .dataframe thead th {\n",
       "        text-align: right;\n",
       "    }\n",
       "</style>\n",
       "<table border=\"1\" class=\"dataframe\">\n",
       "  <thead>\n",
       "    <tr style=\"text-align: right;\">\n",
       "      <th></th>\n",
       "      <th>0</th>\n",
       "      <th>1</th>\n",
       "      <th>2</th>\n",
       "      <th>3</th>\n",
       "      <th>4</th>\n",
       "      <th>5</th>\n",
       "      <th>6</th>\n",
       "      <th>7</th>\n",
       "      <th>8</th>\n",
       "      <th>9</th>\n",
       "      <th>...</th>\n",
       "      <th>134</th>\n",
       "      <th>135</th>\n",
       "      <th>136</th>\n",
       "      <th>137</th>\n",
       "      <th>138</th>\n",
       "      <th>139</th>\n",
       "      <th>140</th>\n",
       "      <th>141</th>\n",
       "      <th>142</th>\n",
       "      <th>143</th>\n",
       "    </tr>\n",
       "    <tr>\n",
       "      <th>IDLink</th>\n",
       "      <th></th>\n",
       "      <th></th>\n",
       "      <th></th>\n",
       "      <th></th>\n",
       "      <th></th>\n",
       "      <th></th>\n",
       "      <th></th>\n",
       "      <th></th>\n",
       "      <th></th>\n",
       "      <th></th>\n",
       "      <th></th>\n",
       "      <th></th>\n",
       "      <th></th>\n",
       "      <th></th>\n",
       "      <th></th>\n",
       "      <th></th>\n",
       "      <th></th>\n",
       "      <th></th>\n",
       "      <th></th>\n",
       "      <th></th>\n",
       "      <th></th>\n",
       "    </tr>\n",
       "  </thead>\n",
       "  <tbody>\n",
       "    <tr>\n",
       "      <th>1.0</th>\n",
       "      <td>0</td>\n",
       "      <td>0</td>\n",
       "      <td>0</td>\n",
       "      <td>0</td>\n",
       "      <td>0</td>\n",
       "      <td>0</td>\n",
       "      <td>1</td>\n",
       "      <td>1</td>\n",
       "      <td>8</td>\n",
       "      <td>8</td>\n",
       "      <td>...</td>\n",
       "      <td>16</td>\n",
       "      <td>16</td>\n",
       "      <td>16</td>\n",
       "      <td>16</td>\n",
       "      <td>16</td>\n",
       "      <td>16</td>\n",
       "      <td>16</td>\n",
       "      <td>16</td>\n",
       "      <td>16</td>\n",
       "      <td>16</td>\n",
       "    </tr>\n",
       "    <tr>\n",
       "      <th>2.0</th>\n",
       "      <td>0</td>\n",
       "      <td>0</td>\n",
       "      <td>0</td>\n",
       "      <td>0</td>\n",
       "      <td>0</td>\n",
       "      <td>0</td>\n",
       "      <td>0</td>\n",
       "      <td>0</td>\n",
       "      <td>3</td>\n",
       "      <td>3</td>\n",
       "      <td>...</td>\n",
       "      <td>42</td>\n",
       "      <td>42</td>\n",
       "      <td>42</td>\n",
       "      <td>42</td>\n",
       "      <td>42</td>\n",
       "      <td>42</td>\n",
       "      <td>42</td>\n",
       "      <td>42</td>\n",
       "      <td>42</td>\n",
       "      <td>42</td>\n",
       "    </tr>\n",
       "    <tr>\n",
       "      <th>3.0</th>\n",
       "      <td>0</td>\n",
       "      <td>0</td>\n",
       "      <td>0</td>\n",
       "      <td>0</td>\n",
       "      <td>0</td>\n",
       "      <td>0</td>\n",
       "      <td>0</td>\n",
       "      <td>0</td>\n",
       "      <td>0</td>\n",
       "      <td>0</td>\n",
       "      <td>...</td>\n",
       "      <td>121</td>\n",
       "      <td>121</td>\n",
       "      <td>121</td>\n",
       "      <td>121</td>\n",
       "      <td>121</td>\n",
       "      <td>121</td>\n",
       "      <td>121</td>\n",
       "      <td>121</td>\n",
       "      <td>121</td>\n",
       "      <td>121</td>\n",
       "    </tr>\n",
       "    <tr>\n",
       "      <th>4.0</th>\n",
       "      <td>0</td>\n",
       "      <td>0</td>\n",
       "      <td>0</td>\n",
       "      <td>0</td>\n",
       "      <td>0</td>\n",
       "      <td>0</td>\n",
       "      <td>0</td>\n",
       "      <td>0</td>\n",
       "      <td>0</td>\n",
       "      <td>0</td>\n",
       "      <td>...</td>\n",
       "      <td>18</td>\n",
       "      <td>18</td>\n",
       "      <td>18</td>\n",
       "      <td>18</td>\n",
       "      <td>18</td>\n",
       "      <td>18</td>\n",
       "      <td>18</td>\n",
       "      <td>18</td>\n",
       "      <td>18</td>\n",
       "      <td>18</td>\n",
       "    </tr>\n",
       "    <tr>\n",
       "      <th>5.0</th>\n",
       "      <td>0</td>\n",
       "      <td>0</td>\n",
       "      <td>0</td>\n",
       "      <td>0</td>\n",
       "      <td>0</td>\n",
       "      <td>0</td>\n",
       "      <td>0</td>\n",
       "      <td>0</td>\n",
       "      <td>0</td>\n",
       "      <td>0</td>\n",
       "      <td>...</td>\n",
       "      <td>34</td>\n",
       "      <td>34</td>\n",
       "      <td>34</td>\n",
       "      <td>34</td>\n",
       "      <td>34</td>\n",
       "      <td>34</td>\n",
       "      <td>34</td>\n",
       "      <td>34</td>\n",
       "      <td>34</td>\n",
       "      <td>34</td>\n",
       "    </tr>\n",
       "  </tbody>\n",
       "</table>\n",
       "<p>5 rows × 144 columns</p>\n",
       "</div>"
      ],
      "text/plain": [
       "        0    1    2    3    4    5    6    7    8    9   ...   134  135  136  \\\n",
       "IDLink                                                   ...                   \n",
       "1.0       0    0    0    0    0    0    1    1    8    8 ...    16   16   16   \n",
       "2.0       0    0    0    0    0    0    0    0    3    3 ...    42   42   42   \n",
       "3.0       0    0    0    0    0    0    0    0    0    0 ...   121  121  121   \n",
       "4.0       0    0    0    0    0    0    0    0    0    0 ...    18   18   18   \n",
       "5.0       0    0    0    0    0    0    0    0    0    0 ...    34   34   34   \n",
       "\n",
       "        137  138  139  140  141  142  143  \n",
       "IDLink                                     \n",
       "1.0      16   16   16   16   16   16   16  \n",
       "2.0      42   42   42   42   42   42   42  \n",
       "3.0     121  121  121  121  121  121  121  \n",
       "4.0      18   18   18   18   18   18   18  \n",
       "5.0      34   34   34   34   34   34   34  \n",
       "\n",
       "[5 rows x 144 columns]"
      ]
     },
     "execution_count": 5,
     "metadata": {},
     "output_type": "execute_result"
    }
   ],
   "source": [
    "data_facebook[data_facebook < 0 ] = 0\n",
    "data_google[data_google < 0 ] = 0\n",
    "data_linkedin[data_linkedin < 0 ] = 0\n",
    "\n",
    "data_ts = data_facebook + data_google.loc[data_facebook.index] + data_linkedin.loc[data_facebook.index]\n",
    "data_ts.columns = range(144)\n",
    "data_ts.head()"
   ]
  },
  {
   "cell_type": "code",
   "execution_count": 6,
   "metadata": {},
   "outputs": [
    {
     "data": {
      "text/plain": [
       "[<matplotlib.lines.Line2D at 0x102eb5278>]"
      ]
     },
     "execution_count": 6,
     "metadata": {},
     "output_type": "execute_result"
    },
    {
     "data": {
      "image/png": "[encoded data removed]",
      "text/plain": [
       "<Figure size 432x288 with 1 Axes>"
      ]
     },
     "metadata": {},
     "output_type": "display_data"
    }
   ],
   "source": [
    "plt.plot(log(data_ts.max(1)+1).value_counts(),'o-')"
   ]
  },
  {
   "cell_type": "code",
   "execution_count": 7,
   "metadata": {},
   "outputs": [
    {
     "data": {
      "text/plain": [
       "[<matplotlib.lines.Line2D at 0x103966e80>]"
      ]
     },
     "execution_count": 7,
     "metadata": {},
     "output_type": "execute_result"
    },
    {
     "data": {
      "image/png": "[encoded data removed]",
      "text/plain": [
       "<Figure size 432x288 with 1 Axes>"
      ]
     },
     "metadata": {},
     "output_type": "display_data"
    }
   ],
   "source": [
    "#scatter(data_ts.idxmax(1).value_counts()[:,0],data_ts.idxmax(1).value_counts()[:,1])\n",
    "plt.plot(data_ts.idxmax(1).value_counts().values)"
   ]
  },
  {
   "cell_type": "markdown",
   "metadata": {},
   "source": []
  },
  {
   "cell_type": "code",
   "execution_count": 8,
   "metadata": {},
   "outputs": [],
   "source": [
    "class Clean:\n",
    "    def __init__(self, df):\n",
    "        self.data = df \n",
    "        print('shape of orginal data:',self.data.shape)\n",
    "    def filter(self, maximum=10, esssup = 10):\n",
    "        self.toremove = (self.data.max(1) < maximum) | (self.data.idxmax(1).values < esssup)\n",
    "        print('want to remove', sum(self.toremove),'rows')\n",
    "    def remove(self, maximum=10, esssup = 10):\n",
    "        self.filter(maximum, esssup)\n",
    "        self.newdata = self.data.loc[~self.toremove]"
   ]
  },
  {
   "cell_type": "code",
   "execution_count": 9,
   "metadata": {},
   "outputs": [
    {
     "name": "stdout",
     "output_type": "stream",
     "text": [
      "shape of orginal data: (83161, 144)\n",
      "want to remove 39218 rows\n"
     ]
    },
    {
     "data": {
      "text/plain": [
       "(43943, 144)"
      ]
     },
     "execution_count": 9,
     "metadata": {},
     "output_type": "execute_result"
    }
   ],
   "source": [
    "cl_ts = Clean(data_ts)\n",
    "cl_ts.remove(10)\n",
    "cl_ts.newdata.shape"
   ]
  },
  {
   "cell_type": "code",
   "execution_count": 10,
   "metadata": {},
   "outputs": [
    {
     "data": {
      "text/plain": [
       "<matplotlib.axes._subplots.AxesSubplot at 0x104a59748>"
      ]
     },
     "execution_count": 10,
     "metadata": {},
     "output_type": "execute_result"
    },
    {
     "data": {
      "image/png": "[encoded data removed]",
      "text/plain": [
       "<Figure size 432x288 with 1 Axes>"
      ]
     },
     "metadata": {},
     "output_type": "display_data"
    }
   ],
   "source": [
    "cl_ts.newdata.max(1)[cl_ts.newdata.max(1)<100].hist(bins=100)"
   ]
  },
  {
   "cell_type": "code",
   "execution_count": 11,
   "metadata": {},
   "outputs": [
    {
     "data": {
      "text/plain": [
       "[<matplotlib.lines.Line2D at 0x10756b9b0>]"
      ]
     },
     "execution_count": 11,
     "metadata": {},
     "output_type": "execute_result"
    },
    {
     "data": {
      "image/png": "[encoded data removed]",
      "text/plain": [
       "<Figure size 432x288 with 1 Axes>"
      ]
     },
     "metadata": {},
     "output_type": "display_data"
    }
   ],
   "source": [
    "plt.plot(cl_ts.newdata.idxmax(1).value_counts().values)"
   ]
  },
  {
   "cell_type": "code",
   "execution_count": 12,
   "metadata": {},
   "outputs": [],
   "source": [
    "Id = array([])\n",
    "\n",
    "sub_news = data_news.loc[data_ts.index]\n",
    "\n",
    "for i in range(len(weight)):\n",
    "    Id_temp = random.choice(sub_news.index[sub_news.Topic==topic.index.values[i]], weight[i])\n",
    "    Id = append(Id, Id_temp)\n",
    "len(Id)\n",
    "\n",
    "sub_news = data_news.loc[Id]\n",
    "sub_ts = data_ts.loc[Id]"
   ]
  },
  {
   "cell_type": "code",
   "execution_count": 13,
   "metadata": {},
   "outputs": [],
   "source": [
    "sub_news.to_csv('sub_news.csv')\n",
    "sub_ts.to_csv('sub_ts.csv')"
   ]
  },
  {
   "cell_type": "markdown",
   "metadata": {},
   "source": [
    "# Below are useless"
   ]
  },
  {
   "cell_type": "markdown",
   "metadata": {},
   "source": [
    "data_facebook = data_facebook + (data_facebook <= 0).astype(int)\n",
    "data_facebook.columns = range(144)\n",
    "data_linkedin = data_linkedin + (data_facebook <= 0).astype(int)\n",
    "data_facebook.columns = range(144)\n",
    "data_facebook = data_facebook + (data_facebook <= 0).astype(int)\n",
    "data_facebook.columns = range(144)"
   ]
  },
  {
   "cell_type": "markdown",
   "metadata": {},
   "source": [
    "clfacebook = Clean(data_facebook)        \n",
    "clfacebook.filter()\n",
    "clgoogle = Clean(data_google)        \n",
    "clgoogle.filter()\n",
    "cllinkedin = Clean(data_linkedin)        \n",
    "cllinkedin.filter()\n",
    "\n",
    "sum(cllinkedin.remove|clgoogle.remove)   "
   ]
  },
  {
   "cell_type": "markdown",
   "metadata": {},
   "source": [
    "maximum = data_facebook.max(1)\n",
    "esssup = data_facebook.idxmax(1).values\n",
    "remove = (maximum < 10) | (esssup <10)\n",
    "print(sum(remove))\n",
    "shape(data_facebook)"
   ]
  },
  {
   "cell_type": "markdown",
   "metadata": {},
   "source": [
    "Id = array([])\n",
    "\n",
    "for i in range(len(weight)):\n",
    "    Id_temp = random.choice(data_news.IDLink[data_news.Topic==topic.index.values[i]], weight[i])\n",
    "    Id = append(Id, Id_temp)\n",
    "len(Id)\n",
    "\n",
    "sub_news = (data_news.loc[Id])\n",
    "sub_facebook = (data_facebook.loc[Id])\n",
    "sub_google = (data_google.loc[Id])\n",
    "sub_linkedin = (data_linkedin.loc[Id])"
   ]
  },
  {
   "cell_type": "markdown",
   "metadata": {},
   "source": [
    "sub_news.to_csv('sub_news.csv')\n",
    "sub_facebook.to_csv('sub_facebook.csv')\n",
    "sub_google.to_csv('sub_google.csv')\n",
    "sub_linkedin.to_csv('sub_linkedin.csv')"
   ]
  }
 ],
 "metadata": {
  "kernelspec": {
   "display_name": "Python 3",
   "language": "python",
   "name": "python3"
  },
  "language_info": {
   "codemirror_mode": {
    "name": "ipython",
    "version": 3
   },
   "file_extension": ".py",
   "mimetype": "text/x-python",
   "name": "python",
   "nbconvert_exporter": "python",
   "pygments_lexer": "ipython3",
   "version": "3.6.5"
  }
 },
 "nbformat": 4,
 "nbformat_minor": 2
}
